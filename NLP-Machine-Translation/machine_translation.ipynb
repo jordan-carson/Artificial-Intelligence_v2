{
 "cells": [
  {
   "cell_type": "markdown",
   "metadata": {
    "collapsed": true
   },
   "source": [
    "##### Artificial Intelligence Nanodegree\n",
    "## Machine Translation Project\n",
    "In this notebook, sections that end with **'(IMPLEMENTATION)'** in the header indicate that the following blocks of code will require additional functionality which you must provide. Please be sure to read the instructions carefully!\n",
    "\n",
    "## Introduction\n",
    "In this notebook, you will build a deep neural network that functions as part of an end-to-end machine translation pipeline. Your completed pipeline will accept English text as input and return the French translation.\n",
    "\n",
    "- **Preprocess** - You'll convert text to sequence of integers.\n",
    "- **Models** Create models which accepts a sequence of integers as input and returns a probability distribution over possible translations. After learning about the basic types of neural networks that are often used for machine translation, you will engage in your own investigations, to design your own model!\n",
    "- **Prediction** Run the model on English text."
   ]
  },
  {
   "cell_type": "code",
   "execution_count": 1,
   "metadata": {
    "collapsed": true
   },
   "outputs": [],
   "source": [
    "%load_ext autoreload\n",
    "%aimport helper, tests\n",
    "%autoreload 1"
   ]
  },
  {
   "cell_type": "code",
   "execution_count": 13,
   "metadata": {
    "collapsed": true
   },
   "outputs": [],
   "source": [
    "import collections\n",
    "\n",
    "import helper\n",
    "import numpy as np\n",
    "import project_tests as tests\n",
    "\n",
    "from keras.preprocessing.text import Tokenizer\n",
    "from keras.preprocessing.sequence import pad_sequences\n",
    "from keras.models import Model\n",
    "from keras.layers import GRU, Input, Dense, TimeDistributed, Activation, RepeatVector, Bidirectional, Dropout\n",
    "from keras.layers.embeddings import Embedding\n",
    "from keras.optimizers import Adam\n",
    "from keras.losses import sparse_categorical_crossentropy"
   ]
  },
  {
   "cell_type": "markdown",
   "metadata": {},
   "source": [
    "### Verify access to the GPU\n",
    "The following test applies only if you expect to be using a GPU, e.g., while running in a Udacity Workspace or using an AWS instance with GPU support. Run the next cell, and verify that the device_type is \"GPU\".\n",
    "- If the device is not GPU & you are running from a Udacity Workspace, then save your workspace with the icon at the top, then click \"enable\" at the bottom of the workspace.\n",
    "- If the device is not GPU & you are running from an AWS instance, then refer to the cloud computing instructions in the classroom to verify your setup steps."
   ]
  },
  {
   "cell_type": "code",
   "execution_count": 3,
   "metadata": {},
   "outputs": [
    {
     "name": "stdout",
     "output_type": "stream",
     "text": [
      "[name: \"/cpu:0\"\n",
      "device_type: \"CPU\"\n",
      "memory_limit: 268435456\n",
      "locality {\n",
      "}\n",
      "incarnation: 6222713721470096834\n",
      ", name: \"/gpu:0\"\n",
      "device_type: \"GPU\"\n",
      "memory_limit: 357302272\n",
      "locality {\n",
      "  bus_id: 1\n",
      "}\n",
      "incarnation: 2114805983655128255\n",
      "physical_device_desc: \"device: 0, name: Tesla K80, pci bus id: 0000:00:04.0\"\n",
      "]\n"
     ]
    }
   ],
   "source": [
    "from tensorflow.python.client import device_lib\n",
    "print(device_lib.list_local_devices())"
   ]
  },
  {
   "cell_type": "markdown",
   "metadata": {},
   "source": [
    "## Dataset\n",
    "We begin by investigating the dataset that will be used to train and evaluate your pipeline.  The most common datasets used for machine translation are from [WMT](http://www.statmt.org/).  However, that will take a long time to train a neural network on.  We'll be using a dataset we created for this project that contains a small vocabulary.  You'll be able to train your model in a reasonable time with this dataset.\n",
    "### Load Data\n",
    "The data is located in `data/small_vocab_en` and `data/small_vocab_fr`. The `small_vocab_en` file contains English sentences with their French translations in the `small_vocab_fr` file. Load the English and French data from these files from running the cell below."
   ]
  },
  {
   "cell_type": "code",
   "execution_count": 4,
   "metadata": {},
   "outputs": [
    {
     "name": "stdout",
     "output_type": "stream",
     "text": [
      "Dataset Loaded\n"
     ]
    }
   ],
   "source": [
    "# Load English data\n",
    "english_sentences = helper.load_data('data/small_vocab_en')\n",
    "# Load French data\n",
    "french_sentences = helper.load_data('data/small_vocab_fr')\n",
    "\n",
    "print('Dataset Loaded')"
   ]
  },
  {
   "cell_type": "markdown",
   "metadata": {},
   "source": [
    "### Files\n",
    "Each line in `small_vocab_en` contains an English sentence with the respective translation in each line of `small_vocab_fr`.  View the first two lines from each file."
   ]
  },
  {
   "cell_type": "code",
   "execution_count": 5,
   "metadata": {},
   "outputs": [
    {
     "name": "stdout",
     "output_type": "stream",
     "text": [
      "small_vocab_en Line 1:  new jersey is sometimes quiet during autumn , and it is snowy in april .\n",
      "small_vocab_fr Line 1:  new jersey est parfois calme pendant l' automne , et il est neigeux en avril .\n",
      "small_vocab_en Line 2:  the united states is usually chilly during july , and it is usually freezing in november .\n",
      "small_vocab_fr Line 2:  les états-unis est généralement froid en juillet , et il gèle habituellement en novembre .\n"
     ]
    }
   ],
   "source": [
    "for sample_i in range(2):\n",
    "    print('small_vocab_en Line {}:  {}'.format(sample_i + 1, english_sentences[sample_i]))\n",
    "    print('small_vocab_fr Line {}:  {}'.format(sample_i + 1, french_sentences[sample_i]))"
   ]
  },
  {
   "cell_type": "markdown",
   "metadata": {},
   "source": [
    "From looking at the sentences, you can see they have been preprocessed already.  The puncuations have been delimited using spaces. All the text have been converted to lowercase.  This should save you some time, but the text requires more preprocessing.\n",
    "### Vocabulary\n",
    "The complexity of the problem is determined by the complexity of the vocabulary.  A more complex vocabulary is a more complex problem.  Let's look at the complexity of the dataset we'll be working with."
   ]
  },
  {
   "cell_type": "code",
   "execution_count": 6,
   "metadata": {},
   "outputs": [
    {
     "name": "stdout",
     "output_type": "stream",
     "text": [
      "1823250 English words.\n",
      "227 unique English words.\n",
      "10 Most common words in the English dataset:\n",
      "\"is\" \",\" \".\" \"in\" \"it\" \"during\" \"the\" \"but\" \"and\" \"sometimes\"\n",
      "\n",
      "1961295 French words.\n",
      "355 unique French words.\n",
      "10 Most common words in the French dataset:\n",
      "\"est\" \".\" \",\" \"en\" \"il\" \"les\" \"mais\" \"et\" \"la\" \"parfois\"\n"
     ]
    }
   ],
   "source": [
    "english_words_counter = collections.Counter([word for sentence in english_sentences for word in sentence.split()])\n",
    "french_words_counter = collections.Counter([word for sentence in french_sentences for word in sentence.split()])\n",
    "\n",
    "print('{} English words.'.format(len([word for sentence in english_sentences for word in sentence.split()])))\n",
    "print('{} unique English words.'.format(len(english_words_counter)))\n",
    "print('10 Most common words in the English dataset:')\n",
    "print('\"' + '\" \"'.join(list(zip(*english_words_counter.most_common(10)))[0]) + '\"')\n",
    "print()\n",
    "print('{} French words.'.format(len([word for sentence in french_sentences for word in sentence.split()])))\n",
    "print('{} unique French words.'.format(len(french_words_counter)))\n",
    "print('10 Most common words in the French dataset:')\n",
    "print('\"' + '\" \"'.join(list(zip(*french_words_counter.most_common(10)))[0]) + '\"')"
   ]
  },
  {
   "cell_type": "markdown",
   "metadata": {},
   "source": [
    "For comparison, _Alice's Adventures in Wonderland_ contains 2,766 unique words of a total of 15,500 words.\n",
    "## Preprocess\n",
    "For this project, you won't use text data as input to your model. Instead, you'll convert the text into sequences of integers using the following preprocess methods:\n",
    "1. Tokenize the words into ids\n",
    "2. Add padding to make all the sequences the same length.\n",
    "\n",
    "Time to start preprocessing the data...\n",
    "### Tokenize (IMPLEMENTATION)\n",
    "For a neural network to predict on text data, it first has to be turned into data it can understand. Text data like \"dog\" is a sequence of ASCII character encodings.  Since a neural network is a series of multiplication and addition operations, the input data needs to be number(s).\n",
    "\n",
    "We can turn each character into a number or each word into a number.  These are called character and word ids, respectively.  Character ids are used for character level models that generate text predictions for each character.  A word level model uses word ids that generate text predictions for each word.  Word level models tend to learn better, since they are lower in complexity, so we'll use those.\n",
    "\n",
    "Turn each sentence into a sequence of words ids using Keras's [`Tokenizer`](https://keras.io/preprocessing/text/#tokenizer) function. Use this function to tokenize `english_sentences` and `french_sentences` in the cell below.\n",
    "\n",
    "Running the cell will run `tokenize` on sample data and show output for debugging."
   ]
  },
  {
   "cell_type": "code",
   "execution_count": 7,
   "metadata": {},
   "outputs": [
    {
     "name": "stdout",
     "output_type": "stream",
     "text": [
      "{'the': 1, 'quick': 2, 'a': 3, 'brown': 4, 'fox': 5, 'jumps': 6, 'over': 7, 'lazy': 8, 'dog': 9, 'by': 10, 'jove': 11, 'my': 12, 'study': 13, 'of': 14, 'lexicography': 15, 'won': 16, 'prize': 17, 'this': 18, 'is': 19, 'short': 20, 'sentence': 21}\n",
      "\n",
      "Sequence 1 in x\n",
      "  Input:  The quick brown fox jumps over the lazy dog .\n",
      "  Output: [1, 2, 4, 5, 6, 7, 1, 8, 9]\n",
      "Sequence 2 in x\n",
      "  Input:  By Jove , my quick study of lexicography won a prize .\n",
      "  Output: [10, 11, 12, 2, 13, 14, 15, 16, 3, 17]\n",
      "Sequence 3 in x\n",
      "  Input:  This is a short sentence .\n",
      "  Output: [18, 19, 3, 20, 21]\n"
     ]
    }
   ],
   "source": [
    "from keras.preprocessing.text import Tokenizer\n",
    "\n",
    "def tokenize(x):\n",
    "    \"\"\"\n",
    "    Tokenize x\n",
    "    :param x: List of sentences/strings to be tokenized\n",
    "    :return: Tuple of (tokenized x data, tokenizer used to tokenize x)\n",
    "    \"\"\"\n",
    "    tokenizer = Tokenizer()\n",
    "    tokenizer.fit_on_texts(x)\n",
    "    t = tokenizer.texts_to_sequences(x)\n",
    "    \n",
    "    return t, tokenizer\n",
    "tests.test_tokenize(tokenize)\n",
    "\n",
    "# Tokenize Example output\n",
    "text_sentences = [\n",
    "    'The quick brown fox jumps over the lazy dog .',\n",
    "    'By Jove , my quick study of lexicography won a prize .',\n",
    "    'This is a short sentence .']\n",
    "text_tokenized, text_tokenizer = tokenize(text_sentences)\n",
    "print(text_tokenizer.word_index)\n",
    "print()\n",
    "for sample_i, (sent, token_sent) in enumerate(zip(text_sentences, text_tokenized)):\n",
    "    print('Sequence {} in x'.format(sample_i + 1))\n",
    "    print('  Input:  {}'.format(sent))\n",
    "    print('  Output: {}'.format(token_sent))"
   ]
  },
  {
   "cell_type": "markdown",
   "metadata": {},
   "source": [
    "### Padding (IMPLEMENTATION)\n",
    "When batching the sequence of word ids together, each sequence needs to be the same length.  Since sentences are dynamic in length, we can add padding to the end of the sequences to make them the same length.\n",
    "\n",
    "Make sure all the English sequences have the same length and all the French sequences have the same length by adding padding to the **end** of each sequence using Keras's [`pad_sequences`](https://keras.io/preprocessing/sequence/#pad_sequences) function."
   ]
  },
  {
   "cell_type": "code",
   "execution_count": 8,
   "metadata": {},
   "outputs": [
    {
     "name": "stdout",
     "output_type": "stream",
     "text": [
      "Sequence 1 in x\n",
      "  Input:  [1 2 4 5 6 7 1 8 9]\n",
      "  Output: [1 2 4 5 6 7 1 8 9 0]\n",
      "Sequence 2 in x\n",
      "  Input:  [10 11 12  2 13 14 15 16  3 17]\n",
      "  Output: [10 11 12  2 13 14 15 16  3 17]\n",
      "Sequence 3 in x\n",
      "  Input:  [18 19  3 20 21]\n",
      "  Output: [18 19  3 20 21  0  0  0  0  0]\n"
     ]
    }
   ],
   "source": [
    "from keras.preprocessing.sequence import pad_sequences\n",
    "\n",
    "def pad(x, length=None):\n",
    "    \"\"\"\n",
    "    Pad x\n",
    "    :param x: List of sequences.\n",
    "    :param length: Length to pad the sequence to.  If None, use length of longest sequence in x.\n",
    "    :return: Padded numpy array of sequences\n",
    "    \n",
    "    pad_sequences - documentation -> https://keras.io/preprocessing/sequence/\n",
    "    Arguments\n",
    "        sequences: List of lists, where each element is a sequence.\n",
    "        maxlen: Int, maximum length of all sequences.\n",
    "        dtype: Type of the output sequences.\n",
    "        padding: String, 'pre' or 'post': pad either before or after each sequence.\n",
    "        truncating: String, 'pre' or 'post': remove values from sequences larger than  maxlen, either at the beginning or at the end of the sequences.\n",
    "        value: Float, padding value.\n",
    "    Returns\n",
    "        x: Numpy array with shape (len(sequences), maxlen)\n",
    "    \n",
    "    \"\"\"\n",
    "    # TODO: Implement\n",
    "    return pad_sequences(x, length, padding='post')\n",
    "tests.test_pad(pad)\n",
    "\n",
    "# Pad Tokenized output\n",
    "test_pad = pad(text_tokenized)\n",
    "for sample_i, (token_sent, pad_sent) in enumerate(zip(text_tokenized, test_pad)):\n",
    "    print('Sequence {} in x'.format(sample_i + 1))\n",
    "    print('  Input:  {}'.format(np.array(token_sent)))\n",
    "    print('  Output: {}'.format(pad_sent))"
   ]
  },
  {
   "cell_type": "markdown",
   "metadata": {},
   "source": [
    "### Preprocess Pipeline\n",
    "Your focus for this project is to build neural network architecture, so we won't ask you to create a preprocess pipeline.  Instead, we've provided you with the implementation of the `preprocess` function."
   ]
  },
  {
   "cell_type": "code",
   "execution_count": 9,
   "metadata": {},
   "outputs": [
    {
     "name": "stdout",
     "output_type": "stream",
     "text": [
      "Data Preprocessed\n",
      "Max English sentence length: 15\n",
      "Max French sentence length: 21\n",
      "English vocabulary size: 199\n",
      "French vocabulary size: 344\n"
     ]
    }
   ],
   "source": [
    "def preprocess(x, y):\n",
    "    \"\"\"\n",
    "    Preprocess x and y\n",
    "    :param x: Feature List of sentences\n",
    "    :param y: Label List of sentences\n",
    "    :return: Tuple of (Preprocessed x, Preprocessed y, x tokenizer, y tokenizer)\n",
    "    \"\"\"\n",
    "    preprocess_x, x_tk = tokenize(x)\n",
    "    preprocess_y, y_tk = tokenize(y)\n",
    "\n",
    "    preprocess_x = pad(preprocess_x)\n",
    "    preprocess_y = pad(preprocess_y)\n",
    "\n",
    "    # Keras's sparse_categorical_crossentropy function requires the labels to be in 3 dimensions\n",
    "    preprocess_y = preprocess_y.reshape(*preprocess_y.shape, 1)\n",
    "\n",
    "    return preprocess_x, preprocess_y, x_tk, y_tk\n",
    "\n",
    "preproc_english_sentences, preproc_french_sentences, english_tokenizer, french_tokenizer =\\\n",
    "    preprocess(english_sentences, french_sentences)\n",
    "    \n",
    "max_english_sequence_length = preproc_english_sentences.shape[1]\n",
    "max_french_sequence_length = preproc_french_sentences.shape[1]\n",
    "english_vocab_size = len(english_tokenizer.word_index)\n",
    "french_vocab_size = len(french_tokenizer.word_index)\n",
    "\n",
    "print('Data Preprocessed')\n",
    "print(\"Max English sentence length:\", max_english_sequence_length)\n",
    "print(\"Max French sentence length:\", max_french_sequence_length)\n",
    "print(\"English vocabulary size:\", english_vocab_size)\n",
    "print(\"French vocabulary size:\", french_vocab_size)"
   ]
  },
  {
   "cell_type": "markdown",
   "metadata": {},
   "source": [
    "## Models\n",
    "In this section, you will experiment with various neural network architectures.\n",
    "You will begin by training four relatively simple architectures.\n",
    "- Model 1 is a simple RNN\n",
    "- Model 2 is a RNN with Embedding\n",
    "- Model 3 is a Bidirectional RNN\n",
    "- Model 4 is an optional Encoder-Decoder RNN\n",
    "\n",
    "After experimenting with the four simple architectures, you will construct a deeper architecture that is designed to outperform all four models.\n",
    "### Ids Back to Text\n",
    "The neural network will be translating the input to words ids, which isn't the final form we want.  We want the French translation.  The function `logits_to_text` will bridge the gab between the logits from the neural network to the French translation.  You'll be using this function to better understand the output of the neural network."
   ]
  },
  {
   "cell_type": "code",
   "execution_count": 10,
   "metadata": {},
   "outputs": [
    {
     "name": "stdout",
     "output_type": "stream",
     "text": [
      "`logits_to_text` function loaded.\n"
     ]
    }
   ],
   "source": [
    "def logits_to_text(logits, tokenizer):\n",
    "    \"\"\"\n",
    "    Turn logits from a neural network into text using the tokenizer\n",
    "    :param logits: Logits from a neural network\n",
    "    :param tokenizer: Keras Tokenizer fit on the labels\n",
    "    :return: String that represents the text of the logits\n",
    "    \"\"\"\n",
    "    index_to_words = {id: word for word, id in tokenizer.word_index.items()}\n",
    "    index_to_words[0] = '<PAD>'\n",
    "\n",
    "    return ' '.join([index_to_words[prediction] for prediction in np.argmax(logits, 1)])\n",
    "\n",
    "print('`logits_to_text` function loaded.')"
   ]
  },
  {
   "cell_type": "markdown",
   "metadata": {},
   "source": [
    "### Model 1: RNN (IMPLEMENTATION)\n",
    "![RNN](images/rnn.png)\n",
    "A basic RNN model is a good baseline for sequence data.  In this model, you'll build a RNN that translates English to French."
   ]
  },
  {
   "cell_type": "code",
   "execution_count": 11,
   "metadata": {},
   "outputs": [
    {
     "name": "stdout",
     "output_type": "stream",
     "text": [
      "['Activation', 'Adam', 'Bidirectional', 'Dense', 'Dropout', 'Embedding', 'GRU', 'In', 'Input', 'Model', 'Out', 'RepeatVector', 'TimeDistributed', 'Tokenizer', '_', '__', '___', '__builtin__', '__builtins__', '__doc__', '__loader__', '__name__', '__package__', '__spec__', '_dh', '_i', '_i1', '_i10', '_i11', '_i2', '_i3', '_i4', '_i5', '_i6', '_i7', '_i8', '_i9', '_ih', '_ii', '_iii', '_oh', 'collections', 'device_lib', 'english_sentences', 'english_tokenizer', 'english_vocab_size', 'english_words_counter', 'exit', 'french_sentences', 'french_tokenizer', 'french_vocab_size', 'french_words_counter', 'get_ipython', 'helper', 'logits_to_text', 'max_english_sequence_length', 'max_french_sequence_length', 'np', 'os', 'pad', 'pad_sent', 'pad_sequences', 'preproc_english_sentences', 'preproc_french_sentences', 'preprocess', 'quit', 'sample_i', 'sent', 'sparse_categorical_crossentropy', 'test_pad', 'tests', 'text_sentences', 'text_tokenized', 'text_tokenizer', 'token_sent', 'tokenize']\n"
     ]
    },
    {
     "data": {
      "text/plain": [
       "array([[17, 23,  1, ...,  0,  0,  0],\n",
       "       [ 5, 20, 21, ...,  0,  0,  0],\n",
       "       [22,  1,  9, ...,  0,  0,  0],\n",
       "       ..., \n",
       "       [24,  1, 10, ...,  0,  0,  0],\n",
       "       [ 5, 84,  1, ...,  0,  0,  0],\n",
       "       [ 0,  0,  0, ...,  0,  0,  0]], dtype=int32)"
      ]
     },
     "execution_count": 11,
     "metadata": {},
     "output_type": "execute_result"
    }
   ],
   "source": [
    "import os\n",
    "# os.listdir()\n",
    "print(dir()) # what are out in-scope variables \n",
    "pad(preproc_english_sentences, max_french_sequence_length)"
   ]
  },
  {
   "cell_type": "code",
   "execution_count": 14,
   "metadata": {},
   "outputs": [
    {
     "name": "stdout",
     "output_type": "stream",
     "text": [
      "_________________________________________________________________\n",
      "Layer (type)                 Output Shape              Param #   \n",
      "=================================================================\n",
      "lstm_1 (LSTM)                (None, 21, 128)           66560     \n",
      "_________________________________________________________________\n",
      "time_distributed_1 (TimeDist (None, 21, 344)           44376     \n",
      "=================================================================\n",
      "Total params: 110,936\n",
      "Trainable params: 110,936\n",
      "Non-trainable params: 0\n",
      "_________________________________________________________________\n",
      "_________________________________________________________________\n",
      "Layer (type)                 Output Shape              Param #   \n",
      "=================================================================\n",
      "lstm_2 (LSTM)                (None, 21, 128)           66560     \n",
      "_________________________________________________________________\n",
      "time_distributed_2 (TimeDist (None, 21, 344)           44376     \n",
      "=================================================================\n",
      "Total params: 110,936\n",
      "Trainable params: 110,936\n",
      "Non-trainable params: 0\n",
      "_________________________________________________________________\n",
      "Train on 110288 samples, validate on 27573 samples\n",
      "Epoch 1/10\n",
      "110288/110288 [==============================] - 10s 93us/step - loss: 2.0471 - acc: 0.5296 - val_loss: nan - val_acc: 0.6010\n",
      "Epoch 2/10\n",
      "110288/110288 [==============================] - 8s 74us/step - loss: 1.4535 - acc: 0.6111 - val_loss: nan - val_acc: 0.6106\n",
      "Epoch 3/10\n",
      "110288/110288 [==============================] - 8s 74us/step - loss: 1.3451 - acc: 0.6256 - val_loss: nan - val_acc: 0.6169\n",
      "Epoch 4/10\n",
      "110288/110288 [==============================] - 8s 75us/step - loss: 1.2814 - acc: 0.6382 - val_loss: nan - val_acc: 0.6155\n",
      "Epoch 5/10\n",
      "110288/110288 [==============================] - 8s 74us/step - loss: 1.2505 - acc: 0.6435 - val_loss: nan - val_acc: 0.6229\n",
      "Epoch 6/10\n",
      "110288/110288 [==============================] - 8s 74us/step - loss: 1.2222 - acc: 0.6505 - val_loss: nan - val_acc: 0.6262\n",
      "Epoch 7/10\n",
      "110288/110288 [==============================] - 8s 74us/step - loss: 1.2069 - acc: 0.6528 - val_loss: nan - val_acc: 0.6155\n",
      "Epoch 8/10\n",
      "110288/110288 [==============================] - 8s 75us/step - loss: 1.1935 - acc: 0.6574 - val_loss: nan - val_acc: 0.6097\n",
      "Epoch 9/10\n",
      "110288/110288 [==============================] - 8s 74us/step - loss: 1.1787 - acc: 0.6608 - val_loss: nan - val_acc: 0.6235\n",
      "Epoch 10/10\n",
      "110288/110288 [==============================] - 8s 74us/step - loss: 1.1726 - acc: 0.6626 - val_loss: nan - val_acc: 0.6105\n",
      "new jersey est parfois parfois en l' et il est est est en <PAD> <PAD> <PAD> <PAD> <PAD> <PAD> <PAD> <PAD>\n"
     ]
    }
   ],
   "source": [
    "from keras.layers import GRU, Input, Dense, TimeDistributed, LSTM\n",
    "from keras.models import Model, Sequential\n",
    "from keras.layers import Activation\n",
    "from keras.optimizers import Adam\n",
    "from keras.losses import sparse_categorical_crossentropy\n",
    "from keras.callbacks import TensorBoard, EarlyStopping, ReduceLROnPlateau, ModelCheckpoint\n",
    "\n",
    "def simple_model(input_shape, output_sequence_length, english_vocab_size, french_vocab_size):\n",
    "    \"\"\"\n",
    "    Build and train a basic RNN on x and y\n",
    "    :param input_shape: Tuple of input shape\n",
    "    :param output_sequence_length: Length of output sequence\n",
    "    :param english_vocab_size: Number of unique English words in the dataset\n",
    "    :param french_vocab_size: Number of unique French words in the dataset\n",
    "    :return: Keras model built, but not trained\n",
    "    \n",
    "    GRU\n",
    "    7s 67us/step - loss: 1.2879 - acc: 0.6497 - val_loss: nan - val_acc: 0.5849\n",
    "    LSTM\n",
    "    8s 76us/step - loss: 1.1747 - acc: 0.6638 - val_loss: nan - val_acc: 0.5836\n",
    "    \"\"\"\n",
    "    # TODO: Build the layers\n",
    "    model = Sequential()\n",
    "    model.add(LSTM(128, return_sequences=True, dropout=0.05, input_shape=input_shape[1:]))\n",
    "#     model.add(Dense(1, activation='softmax'))\n",
    "    model.add(TimeDistributed(Dense(french_vocab_size, activation='softmax') ))\n",
    "    model.compile(loss=sparse_categorical_crossentropy, optimizer=Adam(0.1), metrics=['accuracy'])\n",
    "    model.summary()\n",
    "    return model\n",
    "\n",
    "tests.test_simple_model(simple_model)\n",
    "# Reshaping the input to work with a basic RNN\n",
    "tmp_x = pad(preproc_english_sentences, max_french_sequence_length)\n",
    "tmp_x = tmp_x.reshape((-1, preproc_french_sentences.shape[-2], 1))\n",
    "\n",
    "# callbacks = [\n",
    "#     EarlyStopping(monitor='val_loss', patience=2, verbose=0, min_delta=1e-4) # adding min_delta\n",
    "# #     ReduceLROnPlateau(monitor='val_loss', factor=0.1, patience=1, cooldown=0, min_lr=1e-7, verbose=1)]\n",
    "# ]\n",
    "# Train the neural network\n",
    "simple_rnn_model = simple_model(\n",
    "    tmp_x.shape,\n",
    "    max_french_sequence_length,\n",
    "    english_vocab_size,\n",
    "    french_vocab_size)\n",
    "simple_rnn_model.fit(tmp_x, preproc_french_sentences, batch_size=1024, epochs=10, validation_split=0.2) #, callbacks=[callbacks])\n",
    "\n",
    "# Print prediction(s)\n",
    "print(logits_to_text(simple_rnn_model.predict(tmp_x[:1])[0], french_tokenizer))"
   ]
  },
  {
   "cell_type": "markdown",
   "metadata": {},
   "source": [
    "### Model 2: Embedding (IMPLEMENTATION)\n",
    "![RNN](images/embedding.png)\n",
    "You've turned the words into ids, but there's a better representation of a word.  This is called word embeddings.  An embedding is a vector representation of the word that is close to similar words in n-dimensional space, where the n represents the size of the embedding vectors.\n",
    "\n",
    "In this model, you'll create a RNN model using embedding."
   ]
  },
  {
   "cell_type": "code",
   "execution_count": 13,
   "metadata": {},
   "outputs": [
    {
     "name": "stdout",
     "output_type": "stream",
     "text": [
      "_________________________________________________________________\n",
      "Layer (type)                 Output Shape              Param #   \n",
      "=================================================================\n",
      "embedding_1 (Embedding)      (None, 21, 128)           44032     \n",
      "_________________________________________________________________\n",
      "gru_1 (GRU)                  (None, 21, 128)           98688     \n",
      "_________________________________________________________________\n",
      "dense_3 (Dense)              (None, 21, 344)           44376     \n",
      "=================================================================\n",
      "Total params: 187,096\n",
      "Trainable params: 187,096\n",
      "Non-trainable params: 0\n",
      "_________________________________________________________________\n",
      "_________________________________________________________________\n",
      "Layer (type)                 Output Shape              Param #   \n",
      "=================================================================\n",
      "embedding_2 (Embedding)      (None, 21, 128)           44160     \n",
      "_________________________________________________________________\n",
      "gru_2 (GRU)                  (None, 21, 128)           98688     \n",
      "_________________________________________________________________\n",
      "dense_4 (Dense)              (None, 21, 345)           44505     \n",
      "=================================================================\n",
      "Total params: 187,353\n",
      "Trainable params: 187,353\n",
      "Non-trainable params: 0\n",
      "_________________________________________________________________\n",
      "Train on 110288 samples, validate on 27573 samples\n",
      "Epoch 1/10\n",
      "110288/110288 [==============================] - 10s 86us/step - loss: 2.2324 - acc: 0.5725 - val_loss: 1.1771 - val_acc: 0.6840\n",
      "Epoch 2/10\n",
      "110288/110288 [==============================] - 9s 84us/step - loss: 1.0894 - acc: 0.6961 - val_loss: 0.9239 - val_acc: 0.7276\n",
      "Epoch 3/10\n",
      "110288/110288 [==============================] - 9s 83us/step - loss: 0.9244 - acc: 0.7245 - val_loss: 0.8345 - val_acc: 0.7450\n",
      "Epoch 4/10\n",
      "110288/110288 [==============================] - 9s 84us/step - loss: 0.8734 - acc: 0.7398 - val_loss: 0.7981 - val_acc: 0.7598\n",
      "Epoch 5/10\n",
      "110288/110288 [==============================] - 9s 83us/step - loss: 0.8050 - acc: 0.7518 - val_loss: 0.7313 - val_acc: 0.7724\n",
      "Epoch 6/10\n",
      "110288/110288 [==============================] - 9s 84us/step - loss: 0.7610 - acc: 0.7635 - val_loss: 0.7070 - val_acc: 0.7799\n",
      "Epoch 7/10\n",
      "110288/110288 [==============================] - 9s 84us/step - loss: 0.7409 - acc: 0.7708 - val_loss: 0.6738 - val_acc: 0.7915\n",
      "Epoch 8/10\n",
      "110288/110288 [==============================] - 9s 83us/step - loss: 0.7024 - acc: 0.7834 - val_loss: 0.6601 - val_acc: 0.7975\n",
      "Epoch 9/10\n",
      "110288/110288 [==============================] - 9s 84us/step - loss: 0.6802 - acc: 0.7898 - val_loss: 0.6328 - val_acc: 0.8051\n",
      "Epoch 10/10\n",
      "110288/110288 [==============================] - 9s 84us/step - loss: 0.6568 - acc: 0.7969 - val_loss: 0.6171 - val_acc: 0.8099\n",
      "new jersey est parfois calme au en de il est neigeux en en <PAD> <PAD> <PAD> <PAD> <PAD> <PAD> <PAD> <PAD>\n"
     ]
    }
   ],
   "source": [
    "from keras.layers.embeddings import Embedding\n",
    "\n",
    "def embed_model(input_shape, output_sequence_length, english_vocab_size, french_vocab_size):\n",
    "    \"\"\"\n",
    "    Build and train a RNN model using word embedding on x and y\n",
    "    :param input_shape: Tuple of input shape\n",
    "    :param output_sequence_length: Length of output sequence\n",
    "    :param english_vocab_size: Number of unique English words in the dataset\n",
    "    :param french_vocab_size: Number of unique French words in the dataset\n",
    "    :return: Keras model built, but not trained\n",
    "    \"\"\"\n",
    "    # TODO: Implement\n",
    "    model = Sequential()\n",
    "    model.add(Embedding(max(english_vocab_size, french_vocab_size) ,128 , input_length=output_sequence_length))\n",
    "    model.add(GRU(128, dropout=0.1, return_sequences=True))\n",
    "#     layer 3 commited to reduce training time\n",
    "#     model.add(LSTM(128, dropout=0.1, return_sequences=True))\n",
    "    model.add(Dense(french_vocab_size, activation='softmax'))\n",
    "    model.compile(loss=sparse_categorical_crossentropy,\n",
    "                  optimizer=Adam(0.1),\n",
    "                  metrics=['accuracy'])\n",
    "    model.summary()\n",
    "    return model\n",
    "tests.test_embed_model(embed_model)\n",
    "\n",
    "\n",
    "# TODO: Reshape the input\n",
    "tmp_x = pad(preproc_english_sentences, preproc_french_sentences.shape[1])\n",
    "\n",
    "# TODO: Train the neural network\n",
    "embed_rnn_model = embed_model(\n",
    "    tmp_x.shape,\n",
    "    preproc_french_sentences.shape[1],\n",
    "    len(english_tokenizer.word_index)+1,\n",
    "    len(french_tokenizer.word_index)+1)\n",
    "\n",
    "embed_rnn_model.fit(tmp_x, preproc_french_sentences, batch_size=1024, epochs=10, validation_split=0.2)\n",
    "# TODO: Print prediction(s)\n",
    "print(logits_to_text(embed_rnn_model.predict(tmp_x[:1])[0], french_tokenizer))"
   ]
  },
  {
   "cell_type": "code",
   "execution_count": 14,
   "metadata": {
    "collapsed": true
   },
   "outputs": [],
   "source": [
    "# score = embed_rnn_model.evaluate(tmp_x, preproc_french_sentences, verbose=0)\n",
    "# print('Training Accuracy is ' + str(score[1]))"
   ]
  },
  {
   "cell_type": "markdown",
   "metadata": {},
   "source": [
    "### Model 3: Bidirectional RNNs (IMPLEMENTATION)\n",
    "![RNN](images/bidirectional.png)\n",
    "One restriction of a RNN is that it can't see the future input, only the past.  This is where bidirectional recurrent neural networks come in.  They are able to see the future data."
   ]
  },
  {
   "cell_type": "code",
   "execution_count": 19,
   "metadata": {},
   "outputs": [
    {
     "name": "stdout",
     "output_type": "stream",
     "text": [
      "_________________________________________________________________\n",
      "Layer (type)                 Output Shape              Param #   \n",
      "=================================================================\n",
      "bidirectional_3 (Bidirection (None, 21, 256)           99840     \n",
      "_________________________________________________________________\n",
      "time_distributed_5 (TimeDist (None, 21, 344)           88408     \n",
      "=================================================================\n",
      "Total params: 188,248\n",
      "Trainable params: 188,248\n",
      "Non-trainable params: 0\n",
      "_________________________________________________________________\n",
      "_________________________________________________________________\n",
      "Layer (type)                 Output Shape              Param #   \n",
      "=================================================================\n",
      "bidirectional_4 (Bidirection (None, 21, 256)           99840     \n",
      "_________________________________________________________________\n",
      "time_distributed_6 (TimeDist (None, 21, 345)           88665     \n",
      "=================================================================\n",
      "Total params: 188,505\n",
      "Trainable params: 188,505\n",
      "Non-trainable params: 0\n",
      "_________________________________________________________________\n",
      "Train on 110288 samples, validate on 27573 samples\n",
      "Epoch 1/10\n",
      "110288/110288 [==============================] - 12s 113us/step - loss: 1.6789 - acc: 0.5917 - val_loss: 1.2734 - val_acc: 0.6330\n",
      "Epoch 2/10\n",
      "110288/110288 [==============================] - 11s 104us/step - loss: 1.1490 - acc: 0.6625 - val_loss: 1.2627 - val_acc: 0.6334\n",
      "Epoch 3/10\n",
      "110288/110288 [==============================] - 11s 104us/step - loss: 1.0373 - acc: 0.6801 - val_loss: 1.4565 - val_acc: 0.6094\n",
      "Epoch 4/10\n",
      "110288/110288 [==============================] - 11s 103us/step - loss: 0.9825 - acc: 0.6887 - val_loss: 1.6004 - val_acc: 0.6039\n",
      "Epoch 5/10\n",
      "110288/110288 [==============================] - 11s 104us/step - loss: 0.9816 - acc: 0.6875 - val_loss: 1.6999 - val_acc: 0.5897\n",
      "Epoch 6/10\n",
      "110288/110288 [==============================] - 11s 103us/step - loss: 0.9324 - acc: 0.6979 - val_loss: 1.8166 - val_acc: 0.5889\n",
      "Epoch 7/10\n",
      "110288/110288 [==============================] - 11s 104us/step - loss: 0.8959 - acc: 0.7049 - val_loss: 1.7933 - val_acc: 0.5928\n",
      "Epoch 8/10\n",
      "110288/110288 [==============================] - 11s 104us/step - loss: 0.8748 - acc: 0.7087 - val_loss: 1.8268 - val_acc: 0.5934\n",
      "Epoch 9/10\n",
      "110288/110288 [==============================] - 11s 104us/step - loss: 0.8565 - acc: 0.7131 - val_loss: 2.0382 - val_acc: 0.5777\n",
      "Epoch 10/10\n",
      "110288/110288 [==============================] - 11s 104us/step - loss: 0.8401 - acc: 0.7167 - val_loss: 2.0630 - val_acc: 0.5833\n",
      "new jersey est parfois occupé en printemps mais il gèle agréable en en <PAD> <PAD> <PAD> <PAD> <PAD> <PAD> <PAD> <PAD>\n"
     ]
    }
   ],
   "source": [
    "from keras.callbacks import History\n",
    "\n",
    "def bd_model(input_shape, output_sequence_length, english_vocab_size, french_vocab_size):\n",
    "    \"\"\"\n",
    "    Build and train a bidirectional RNN model on x and y\n",
    "    :param input_shape: Tuple of input shape\n",
    "    :param output_sequence_length: Length of output sequence\n",
    "    :param english_vocab_size: Number of unique English words in the dataset\n",
    "    :param french_vocab_size: Number of unique French words in the dataset\n",
    "    :return: Keras model built, but not trained\n",
    "    \n",
    "    Training score is 0.564224310443 on Bidirectional GRU\n",
    "    Training score is 0.574022309876 on Bidirectional LSTM -Better model\n",
    "    \n",
    "    \"\"\"\n",
    "    # TODO: Implement\n",
    "    \n",
    "    model = Sequential()\n",
    "#     model.add(Bidirectional(LSTM(128, return_sequences=True, dropout=0.1),input_shape=input_shape[1:]))\n",
    "#     model.add(TimeDistributed(Dense(french_vocab_size, activation='softmax')))\n",
    "#     model.add(Dense(french_vocab_size, activation='softmax'))\n",
    "\n",
    "#     why is our accuracy decreasing overtime? this model doesn't fit the data well.\n",
    "    model = Sequential()\n",
    "    model.add(Bidirectional(GRU(128, return_sequences=True, dropout=0.1),\n",
    "                        input_shape=input_shape[1:]))\n",
    "    model.add(TimeDistributed(Dense(french_vocab_size, activation='softmax') ))\n",
    "    model.compile(loss=sparse_categorical_crossentropy, optimizer=Adam(0.01), metrics=['accuracy'])\n",
    "    model.summary()\n",
    "    return model\n",
    "tests.test_bd_model(bd_model)\n",
    "\n",
    "# reshape the input\n",
    "tmp_x = pad(preproc_english_sentences, preproc_french_sentences.shape[1])\n",
    "tmp_x = tmp_x.reshape((-1, preproc_french_sentences.shape[-2], 1))\n",
    "history = History()\n",
    "# bidirection_bd_model = bd_model(\n",
    "#     tmp_x.shape,\n",
    "#     max_french_sequence_length,\n",
    "#         english_vocab_size,\n",
    "#     french_vocab_size)\n",
    "bidirection_model = bd_model(\n",
    "    tmp_x.shape,\n",
    "    preproc_french_sentences.shape[1],\n",
    "    len(english_tokenizer.word_index)+1,\n",
    "    len(french_tokenizer.word_index)+1)\n",
    "\n",
    "bidirection_model.fit(tmp_x, preproc_french_sentences, batch_size=1024, epochs=10, validation_split=0.2, callbacks=[history])\n",
    "\n",
    "# TODO: Train and Print prediction(s)\n",
    "print(logits_to_text(bidirection_model.predict(tmp_x[:1])[0], french_tokenizer))"
   ]
  },
  {
   "cell_type": "code",
   "execution_count": 21,
   "metadata": {},
   "outputs": [
    {
     "name": "stdout",
     "output_type": "stream",
     "text": [
      "Training score is 0.582837608064\n"
     ]
    }
   ],
   "source": [
    "# Score is for Bidrection-GRU\n",
    "score = bidirection_model.evaluate(tmp_x, preproc_french_sentences, verbose=0)\n",
    "print('Training score is ' + str(score[1]))"
   ]
  },
  {
   "cell_type": "code",
   "execution_count": 40,
   "metadata": {},
   "outputs": [
    {
     "name": "stdout",
     "output_type": "stream",
     "text": [
      "Training score is 0.574022309876\n"
     ]
    }
   ],
   "source": [
    "# Score is for Bidirection-LSTM\n",
    "score = bidirection_model.evaluate(tmp_x, preproc_french_sentences, verbose=0)\n",
    "print('Training score is ' + str(score[1]))"
   ]
  },
  {
   "cell_type": "markdown",
   "metadata": {},
   "source": [
    "### Analysis of Bidirectional Model"
   ]
  },
  {
   "cell_type": "markdown",
   "metadata": {},
   "source": [
    "We can see from the results above that our model, Bidirectional LSTM fits better to the data. If you uncomment the Bidirectional GRU, you will see our training model's validation accuracy decreases overtime."
   ]
  },
  {
   "cell_type": "code",
   "execution_count": 18,
   "metadata": {},
   "outputs": [
    {
     "name": "stdout",
     "output_type": "stream",
     "text": [
      "{'val_loss': [3.0217046502909923, 2.2058978475735938, 2.031462894864152, 1.9214366957346944, 1.8124142043700273, 1.7551865586690441, 1.7254428083280207, 1.7167276179998452, 1.6786398606699318, 1.6758870767378873], 'val_acc': [0.50918544901903284, 0.51835591898637889, 0.52933284637610067, 0.54232520911948912, 0.55330559525392786, 0.56655010821722207, 0.57367406298510415, 0.57819195089292474, 0.58461127242321542, 0.57535791039116657], 'loss': [4.3247860962881433, 2.4929334885251206, 2.0964670716358618, 1.9686333052084406, 1.8502312273102715, 1.763423142750689, 1.7007790471167863, 1.6583422943139032, 1.6203141272474439, 1.5844264186969537], 'acc': [0.48654504118569791, 0.51338906963833453, 0.52335778874477934, 0.53303850919816764, 0.54733012064299147, 0.56200685638415004, 0.57679369605955533, 0.58186916050813409, 0.5877451288774469, 0.59425622288796476]}\n"
     ]
    },
    {
     "data": {
      "image/png": "[encoded data removed]",
      "text/plain": [
       "<matplotlib.figure.Figure at 0x7fac689b44e0>"
      ]
     },
     "metadata": {},
     "output_type": "display_data"
    },
    {
     "data": {
      "image/png": "[encoded data removed]",
      "text/plain": [
       "<matplotlib.figure.Figure at 0x7fac6894c550>"
      ]
     },
     "metadata": {},
     "output_type": "display_data"
    }
   ],
   "source": [
    "import matplotlib.pyplot as plt\n",
    "# import seaborn as sns\n",
    "print(history.history)\n",
    "plt.plot(history.history['loss'])\n",
    "plt.plot(history.history['val_loss'])\n",
    "plt.title('Bidirectional-LSTM Loss')\n",
    "plt.ylabel('loss')\n",
    "plt.xlabel('epoch')\n",
    "plt.legend(['train', 'validation'], loc='upper left')\n",
    "plt.show()\n",
    "\n",
    "plt.plot(history.history['acc'])\n",
    "plt.plot(history.history['val_acc'])\n",
    "plt.title('Bidirectional-LSTM acc')\n",
    "plt.ylabel('acc')\n",
    "plt.xlabel('epoch')\n",
    "plt.legend(['train', 'validation'], loc='upper left')\n",
    "plt.show()"
   ]
  },
  {
   "cell_type": "code",
   "execution_count": 20,
   "metadata": {},
   "outputs": [
    {
     "name": "stdout",
     "output_type": "stream",
     "text": [
      "{'val_loss': [1.2734094689945805, 1.2627245524163666, 1.4564502037064804, 1.600371864118449, 1.6999040880059018, 1.8165764515830458, 1.7933301942131359, 1.8267849805681662, 2.0381914531601373, 2.0630393123547157], 'val_acc': [0.63301100581262892, 0.63338748880747509, 0.60939573036704775, 0.60389172009232295, 0.58966971347533725, 0.58885629703770892, 0.59283879386221316, 0.59344325145639054, 0.5777325584186942, 0.58326937289750391], 'loss': [1.6789419691154162, 1.1489544847992843, 1.0372753201765124, 0.98249753592375066, 0.98160992074424358, 0.93244645515305202, 0.8959255910621885, 0.87475602952451326, 0.85648332424888796, 0.84006837941246804], 'acc': [0.59167424380026967, 0.66248157840499367, 0.68008313889982874, 0.68872587583622946, 0.68751736249664985, 0.69788372933423592, 0.70485467073205899, 0.70873585600612921, 0.71308810084336183, 0.71670504260889834]}\n"
     ]
    },
    {
     "data": {
      "image/png": "[encoded data removed]",
      "text/plain": [
       "<matplotlib.figure.Figure at 0x7fac72a551d0>"
      ]
     },
     "metadata": {},
     "output_type": "display_data"
    },
    {
     "data": {
      "image/png": "[encoded data removed]",
      "text/plain": [
       "<matplotlib.figure.Figure at 0x7fac4b128470>"
      ]
     },
     "metadata": {},
     "output_type": "display_data"
    }
   ],
   "source": [
    "print(history.history)\n",
    "plt.plot(history.history['loss'])\n",
    "plt.plot(history.history['val_loss'])\n",
    "plt.title('Bidirectional-GRU Loss')\n",
    "plt.ylabel('loss')\n",
    "plt.xlabel('epoch')\n",
    "plt.legend(['train', 'validation'], loc='upper left')\n",
    "plt.show()\n",
    "\n",
    "plt.plot(history.history['acc'])\n",
    "plt.plot(history.history['val_acc'])\n",
    "plt.title('Bidirectional-GRU acc')\n",
    "plt.ylabel('acc')\n",
    "plt.xlabel('epoch')\n",
    "plt.legend(['train', 'validation'], loc='upper left')\n",
    "plt.show()"
   ]
  },
  {
   "cell_type": "markdown",
   "metadata": {},
   "source": [
    "### Model 4: Encoder-Decoder (OPTIONAL)\n",
    "Time to look at encoder-decoder models.  This model is made up of an encoder and decoder. The encoder creates a matrix representation of the sentence.  The decoder takes this matrix as input and predicts the translation as output.\n",
    "\n",
    "Create an encoder-decoder model in the cell below."
   ]
  },
  {
   "cell_type": "code",
   "execution_count": 22,
   "metadata": {
    "scrolled": false
   },
   "outputs": [
    {
     "name": "stdout",
     "output_type": "stream",
     "text": [
      "_________________________________________________________________\n",
      "Layer (type)                 Output Shape              Param #   \n",
      "=================================================================\n",
      "lstm_5 (LSTM)                (None, 128)               66560     \n",
      "_________________________________________________________________\n",
      "repeat_vector_1 (RepeatVecto (None, 21, 128)           0         \n",
      "_________________________________________________________________\n",
      "lstm_6 (LSTM)                (None, 21, 128)           131584    \n",
      "_________________________________________________________________\n",
      "time_distributed_7 (TimeDist (None, 21, 344)           44376     \n",
      "=================================================================\n",
      "Total params: 242,520\n",
      "Trainable params: 242,520\n",
      "Non-trainable params: 0\n",
      "_________________________________________________________________\n",
      "_________________________________________________________________\n",
      "Layer (type)                 Output Shape              Param #   \n",
      "=================================================================\n",
      "lstm_7 (LSTM)                (None, 128)               66560     \n",
      "_________________________________________________________________\n",
      "repeat_vector_2 (RepeatVecto (None, 21, 128)           0         \n",
      "_________________________________________________________________\n",
      "lstm_8 (LSTM)                (None, 21, 128)           131584    \n",
      "_________________________________________________________________\n",
      "time_distributed_8 (TimeDist (None, 21, 345)           44505     \n",
      "=================================================================\n",
      "Total params: 242,649\n",
      "Trainable params: 242,649\n",
      "Non-trainable params: 0\n",
      "_________________________________________________________________\n",
      "Train on 110288 samples, validate on 27573 samples\n",
      "Epoch 1/20\n",
      "110288/110288 [==============================] - 16s 141us/step - loss: 2.8954 - acc: 0.4212 - val_loss: 2.7806 - val_acc: 0.4294\n",
      "Epoch 2/20\n",
      "110288/110288 [==============================] - 14s 130us/step - loss: 2.5754 - acc: 0.4418 - val_loss: 2.5073 - val_acc: 0.4475\n",
      "Epoch 3/20\n",
      "110288/110288 [==============================] - 14s 130us/step - loss: 2.4992 - acc: 0.4521 - val_loss: 2.4985 - val_acc: 0.4532\n",
      "Epoch 4/20\n",
      "110288/110288 [==============================] - 14s 131us/step - loss: 2.4836 - acc: 0.4547 - val_loss: 2.4828 - val_acc: 0.4566\n",
      "Epoch 5/20\n",
      "110288/110288 [==============================] - 14s 131us/step - loss: 2.5069 - acc: 0.4579 - val_loss: 2.5129 - val_acc: 0.4544\n",
      "Epoch 6/20\n",
      "110288/110288 [==============================] - 14s 131us/step - loss: 2.4974 - acc: 0.4559 - val_loss: 2.4818 - val_acc: 0.4518\n",
      "Epoch 7/20\n",
      "110288/110288 [==============================] - 14s 131us/step - loss: 2.4713 - acc: 0.4577 - val_loss: 2.4551 - val_acc: 0.4611\n",
      "Epoch 8/20\n",
      "110288/110288 [==============================] - 14s 130us/step - loss: 2.4714 - acc: 0.4580 - val_loss: 3.2482 - val_acc: 0.2638\n",
      "Epoch 9/20\n",
      "110288/110288 [==============================] - 14s 131us/step - loss: 2.8486 - acc: 0.4309 - val_loss: 2.6725 - val_acc: 0.4425\n",
      "Epoch 10/20\n",
      "110288/110288 [==============================] - 14s 131us/step - loss: 2.6492 - acc: 0.4469 - val_loss: 2.6262 - val_acc: 0.4491\n",
      "Epoch 11/20\n",
      "110288/110288 [==============================] - 14s 131us/step - loss: 2.6211 - acc: 0.4526 - val_loss: 2.6247 - val_acc: 0.4534\n",
      "Epoch 12/20\n",
      "110288/110288 [==============================] - 14s 131us/step - loss: 2.6310 - acc: 0.4526 - val_loss: 2.6619 - val_acc: 0.4494\n",
      "Epoch 13/20\n",
      "110288/110288 [==============================] - 14s 130us/step - loss: 2.7567 - acc: 0.4477 - val_loss: 2.7851 - val_acc: 0.4564\n",
      "Epoch 14/20\n",
      "110288/110288 [==============================] - 14s 131us/step - loss: 2.7742 - acc: 0.4543 - val_loss: 2.7646 - val_acc: 0.4577\n",
      "Epoch 15/20\n",
      "110288/110288 [==============================] - 14s 131us/step - loss: 2.7778 - acc: 0.4549 - val_loss: 2.7637 - val_acc: 0.4567\n",
      "Epoch 16/20\n",
      "110288/110288 [==============================] - 14s 131us/step - loss: 3.6406 - acc: 0.4314 - val_loss: 4.6535 - val_acc: 0.4302\n",
      "Epoch 17/20\n",
      "110288/110288 [==============================] - 14s 131us/step - loss: 4.5272 - acc: 0.4396 - val_loss: 4.5038 - val_acc: 0.4402\n",
      "Epoch 18/20\n",
      "110288/110288 [==============================] - 14s 131us/step - loss: 4.5108 - acc: 0.4400 - val_loss: 4.5053 - val_acc: 0.4415\n",
      "Epoch 19/20\n",
      "110288/110288 [==============================] - 14s 131us/step - loss: 4.5098 - acc: 0.4409 - val_loss: 4.5005 - val_acc: 0.4410\n",
      "Epoch 20/20\n",
      "110288/110288 [==============================] - 14s 131us/step - loss: 4.5094 - acc: 0.4411 - val_loss: 4.5008 - val_acc: 0.4408\n",
      "new est <PAD> <PAD> <PAD> <PAD> <PAD> <PAD> <PAD> <PAD> <PAD> <PAD> <PAD> <PAD> <PAD> <PAD> <PAD> <PAD> <PAD> <PAD> <PAD>\n"
     ]
    }
   ],
   "source": [
    "def encdec_model(input_shape, output_sequence_length, english_vocab_size, french_vocab_size):\n",
    "    \"\"\"\n",
    "    Build and train an encoder-decoder model on x and y\n",
    "    :param input_shape: Tuple of input shape\n",
    "    :param output_sequence_length: Length of output sequence\n",
    "    :param english_vocab_size: Number of unique English words in the dataset\n",
    "    :param french_vocab_size: Number of unique French words in the dataset\n",
    "    :return: Keras model built, but not trained\n",
    "    \n",
    "    Training accuracy is 0.408403442914 on GRU\n",
    "    \"\"\"\n",
    "    model = Sequential()\n",
    "    model.add(LSTM(128, input_shape=input_shape[1:], return_sequences=False) )\n",
    "    model.add(RepeatVector(output_sequence_length))\n",
    "    \n",
    "    model.add(LSTM(128, return_sequences=True) )\n",
    "    model.add(TimeDistributed(Dense(french_vocab_size, activation='softmax') ))\n",
    "    \n",
    "    \n",
    "    model.compile(loss=sparse_categorical_crossentropy,optimizer=Adam(0.1),metrics=['accuracy'])\n",
    "    model.summary()\n",
    "    # OPTIONAL: Implement\n",
    "    return model\n",
    "tests.test_encdec_model(encdec_model)\n",
    "\n",
    "tmp_x = pad(preproc_english_sentences, preproc_french_sentences.shape[1])\n",
    "tmp_x = tmp_x.reshape((-1, preproc_french_sentences.shape[-2], 1))\n",
    "\n",
    "encode_decode_model = encdec_model(\n",
    "    tmp_x.shape,\n",
    "    preproc_french_sentences.shape[1],\n",
    "    len(english_tokenizer.word_index)+1,\n",
    "    len(french_tokenizer.word_index)+1)\n",
    "\n",
    "encode_decode_model.fit(tmp_x, preproc_french_sentences, batch_size=1024, epochs=20, validation_split=0.2)\n",
    "# OPTIONAL: Train and Print prediction(s)\n",
    "\n",
    "print(logits_to_text(encode_decode_model.predict(tmp_x[:1])[0], french_tokenizer))"
   ]
  },
  {
   "cell_type": "code",
   "execution_count": null,
   "metadata": {
    "collapsed": true
   },
   "outputs": [],
   "source": [
    "score = encode_decode_model.evaluate(tmp_x, preproc_french_sentences, verbose=0)\n",
    "\n",
    "print('Training accuracy is ' + str(score[1]))"
   ]
  },
  {
   "cell_type": "markdown",
   "metadata": {},
   "source": [
    "### Model 5: Custom (IMPLEMENTATION)\n",
    "Use everything you learned from the previous models to create a model that incorporates embedding and a bidirectional rnn into one model."
   ]
  },
  {
   "cell_type": "code",
   "execution_count": 17,
   "metadata": {
    "scrolled": false
   },
   "outputs": [
    {
     "name": "stdout",
     "output_type": "stream",
     "text": [
      "_________________________________________________________________\n",
      "Layer (type)                 Output Shape              Param #   \n",
      "=================================================================\n",
      "embedding_3 (Embedding)      (None, 15, 128)           25472     \n",
      "_________________________________________________________________\n",
      "bidirectional_5 (Bidirection (None, 512)               788480    \n",
      "_________________________________________________________________\n",
      "repeat_vector_3 (RepeatVecto (None, 21, 512)           0         \n",
      "_________________________________________________________________\n",
      "bidirectional_6 (Bidirection (None, 21, 512)           1574912   \n",
      "_________________________________________________________________\n",
      "time_distributed_7 (TimeDist (None, 21, 344)           176472    \n",
      "_________________________________________________________________\n",
      "dropout_3 (Dropout)          (None, 21, 344)           0         \n",
      "_________________________________________________________________\n",
      "time_distributed_8 (TimeDist (None, 21, 344)           118680    \n",
      "=================================================================\n",
      "Total params: 2,684,016\n",
      "Trainable params: 2,684,016\n",
      "Non-trainable params: 0\n",
      "_________________________________________________________________\n",
      "Final Model Loaded\n"
     ]
    }
   ],
   "source": [
    "def model_final(input_shape, output_sequence_length, english_vocab_size, french_vocab_size):\n",
    "    \"\"\"\n",
    "    Build and train a model that incorporates embedding, encoder-decoder, and bidirectional RNN on x and y\n",
    "    :param input_shape: Tuple of input shape\n",
    "    :param output_sequence_length: Length of output sequence\n",
    "    :param english_vocab_size: Number of unique English words in the dataset\n",
    "    :param french_vocab_size: Number of unique French words in the dataset\n",
    "    :return: Keras model built, but not trained\n",
    "    \"\"\"\n",
    "    # TODO: Implement\n",
    "    model = Sequential()\n",
    "    \n",
    "    model.add(Embedding(english_vocab_size, 128,input_length=input_shape[1])) # [1:]))\n",
    "    model.add(Bidirectional(LSTM(256)))\n",
    "#     model.add(Bidirectional(GRU(output_sequence_length)))\n",
    "#     model.add(Dense(128, activation='relu'))\n",
    "    model.add(RepeatVector(output_sequence_length))\n",
    "    model.add(Bidirectional(LSTM(256, return_sequences=True)))\n",
    "#     model.add(Bidirectional(GRU(output_sequence_length, return_sequences=True)))\n",
    "    model.add(TimeDistributed(Dense(french_vocab_size, activation='relu')))\n",
    "    model.add(Dropout(0.2))\n",
    "    model.add(TimeDistributed(Dense(french_vocab_size, activation='softmax')))\n",
    "    model.compile(loss=sparse_categorical_crossentropy,\n",
    "                  optimizer=Adam(1e-3),\n",
    "                  metrics=['accuracy'])\n",
    "              \n",
    "    model.summary()\n",
    "    return model\n",
    "tests.test_model_final(model_final)\n",
    "\n",
    "# tmp_x = pad(preproc_english_sentences, preproc_french_sentences.shape[1])\n",
    "# tmp_x = tmp_x.reshape((-1, preproc_french_sentences.shape[-2], 1))\n",
    "\n",
    "# final_model = model_final(\n",
    "#     tmp_x.shape,\n",
    "#     preproc_french_sentences.shape[1],\n",
    "#     len(english_tokenizer.word_index),\n",
    "#     len(french_tokenizer.word_index))\n",
    "\n",
    "# final_model.fit(tmp_x, preproc_french_sentences, batch_size=1024, epochs=20, validation_split=0.2)\n",
    "# # OPTIONAL: Train and Print prediction(s)\n",
    "\n",
    "# print(logits_to_text(encode_decode_model.predict(tmp_x[:1])[0], french_tokenizer))\n",
    "print('Final Model Loaded')\n",
    "# TODO: Train the final model"
   ]
  },
  {
   "cell_type": "markdown",
   "metadata": {},
   "source": [
    "## Prediction (IMPLEMENTATION)"
   ]
  },
  {
   "cell_type": "code",
   "execution_count": 18,
   "metadata": {},
   "outputs": [
    {
     "name": "stdout",
     "output_type": "stream",
     "text": [
      "_________________________________________________________________\n",
      "Layer (type)                 Output Shape              Param #   \n",
      "=================================================================\n",
      "embedding_4 (Embedding)      (None, 15, 128)           25600     \n",
      "_________________________________________________________________\n",
      "bidirectional_7 (Bidirection (None, 512)               788480    \n",
      "_________________________________________________________________\n",
      "repeat_vector_4 (RepeatVecto (None, 21, 512)           0         \n",
      "_________________________________________________________________\n",
      "bidirectional_8 (Bidirection (None, 21, 512)           1574912   \n",
      "_________________________________________________________________\n",
      "time_distributed_9 (TimeDist (None, 21, 345)           176985    \n",
      "_________________________________________________________________\n",
      "dropout_4 (Dropout)          (None, 21, 345)           0         \n",
      "_________________________________________________________________\n",
      "time_distributed_10 (TimeDis (None, 21, 345)           119370    \n",
      "=================================================================\n",
      "Total params: 2,685,347\n",
      "Trainable params: 2,685,347\n",
      "Non-trainable params: 0\n",
      "_________________________________________________________________\n",
      "Train on 110288 samples, validate on 27573 samples\n",
      "Epoch 1/20\n",
      "110288/110288 [==============================] - 51s 464us/step - loss: 2.6926 - acc: 0.4685 - val_loss: 1.9125 - val_acc: 0.5231\n",
      "Epoch 2/20\n",
      "110288/110288 [==============================] - 50s 451us/step - loss: 1.7361 - acc: 0.5529 - val_loss: 1.4829 - val_acc: 0.5981\n",
      "Epoch 3/20\n",
      "110288/110288 [==============================] - 50s 451us/step - loss: 1.4123 - acc: 0.6100 - val_loss: 1.2491 - val_acc: 0.6435\n",
      "Epoch 4/20\n",
      "110288/110288 [==============================] - 50s 450us/step - loss: 1.2229 - acc: 0.6528 - val_loss: 1.0685 - val_acc: 0.6935\n",
      "Epoch 5/20\n",
      "110288/110288 [==============================] - 50s 451us/step - loss: 1.0534 - acc: 0.6924 - val_loss: 0.9379 - val_acc: 0.7226\n",
      "Epoch 6/20\n",
      "110288/110288 [==============================] - 50s 450us/step - loss: 0.9476 - acc: 0.7179 - val_loss: 0.8464 - val_acc: 0.7454\n",
      "Epoch 7/20\n",
      "110288/110288 [==============================] - 50s 451us/step - loss: 0.8352 - acc: 0.7471 - val_loss: 0.7478 - val_acc: 0.7695\n",
      "Epoch 8/20\n",
      "110288/110288 [==============================] - 50s 451us/step - loss: 0.7654 - acc: 0.7650 - val_loss: 0.6593 - val_acc: 0.7943\n",
      "Epoch 9/20\n",
      "110288/110288 [==============================] - 50s 451us/step - loss: 0.6612 - acc: 0.7943 - val_loss: 0.5719 - val_acc: 0.8216\n",
      "Epoch 10/20\n",
      "110288/110288 [==============================] - 50s 451us/step - loss: 0.5763 - acc: 0.8185 - val_loss: 0.4898 - val_acc: 0.8470\n",
      "Epoch 11/20\n",
      "110288/110288 [==============================] - 50s 451us/step - loss: 0.4951 - acc: 0.8439 - val_loss: 0.4146 - val_acc: 0.8730\n",
      "Epoch 12/20\n",
      "110288/110288 [==============================] - 50s 450us/step - loss: 0.4206 - acc: 0.8690 - val_loss: 0.3707 - val_acc: 0.8885\n",
      "Epoch 13/20\n",
      "110288/110288 [==============================] - 50s 451us/step - loss: 0.3618 - acc: 0.8887 - val_loss: 0.2873 - val_acc: 0.9169\n",
      "Epoch 14/20\n",
      "110288/110288 [==============================] - 50s 451us/step - loss: 0.3058 - acc: 0.9080 - val_loss: 0.2527 - val_acc: 0.9268\n",
      "Epoch 15/20\n",
      "110288/110288 [==============================] - 50s 451us/step - loss: 0.2703 - acc: 0.9191 - val_loss: 0.2205 - val_acc: 0.9360\n",
      "Epoch 16/20\n",
      "110288/110288 [==============================] - 50s 450us/step - loss: 0.2389 - acc: 0.9284 - val_loss: 0.2097 - val_acc: 0.9404\n",
      "Epoch 17/20\n",
      "110288/110288 [==============================] - 50s 451us/step - loss: 0.2192 - acc: 0.9339 - val_loss: 0.2208 - val_acc: 0.9342\n",
      "Epoch 18/20\n",
      "110288/110288 [==============================] - 50s 450us/step - loss: 0.1954 - acc: 0.9414 - val_loss: 0.1665 - val_acc: 0.9508\n",
      "Epoch 19/20\n",
      "110288/110288 [==============================] - 50s 450us/step - loss: 0.1751 - acc: 0.9474 - val_loss: 0.1552 - val_acc: 0.9533\n",
      "Epoch 20/20\n",
      "110288/110288 [==============================] - 50s 451us/step - loss: 0.1624 - acc: 0.9509 - val_loss: 0.1405 - val_acc: 0.9572\n",
      "Training accuracy is 0.961100592809\n",
      "Sample 1:\n",
      "il a vu un vieux camion jaune <PAD> <PAD> <PAD> <PAD> <PAD> <PAD> <PAD> <PAD> <PAD> <PAD> <PAD> <PAD> <PAD> <PAD>\n",
      "Il a vu un vieux camion jaune\n",
      "Sample 2:\n",
      "new jersey est parfois calme pendant l' automne et il est neigeux en avril <PAD> <PAD> <PAD> <PAD> <PAD> <PAD> <PAD>\n",
      "new jersey est parfois calme pendant l' automne et il est neigeux en avril <PAD> <PAD> <PAD> <PAD> <PAD> <PAD> <PAD>\n"
     ]
    }
   ],
   "source": [
    "from keras.callbacks import History\n",
    "history_ = History()\n",
    "\n",
    "def final_predictions(x, y, x_tk, y_tk):\n",
    "    \"\"\"\n",
    "    Gets predictions using the final model\n",
    "    :param x: Preprocessed English data\n",
    "    :param y: Preprocessed French data\n",
    "    :param x_tk: English tokenizer\n",
    "    :param y_tk: French tokenizer\n",
    "    \"\"\"\n",
    "    # TODO: Train neural network using model_final\n",
    "    model = model_final(x.shape, y.shape[1], len(x_tk.word_index)+1, len(y_tk.word_index)+1)\n",
    "    \n",
    "    model.fit(x, y, epochs=20, batch_size=1024, validation_split=0.2, callbacks=[history_])\n",
    "\n",
    "    score = model.evaluate(x, preproc_french_sentences, verbose=0)\n",
    "\n",
    "    print('Training accuracy is ' + str(score[1]))\n",
    "    ## DON'T EDIT ANYTHING BELOW THIS LINE\n",
    "    y_id_to_word = {value: key for key, value in y_tk.word_index.items()}\n",
    "    y_id_to_word[0] = '<PAD>'\n",
    "\n",
    "    sentence = 'he saw a old yellow truck'\n",
    "    sentence = [x_tk.word_index[word] for word in sentence.split()]\n",
    "    sentence = pad_sequences([sentence], maxlen=x.shape[-1], padding='post')\n",
    "    sentences = np.array([sentence[0], x[0]])\n",
    "    predictions = model.predict(sentences, len(sentences))\n",
    "\n",
    "    print('Sample 1:')\n",
    "    print(' '.join([y_id_to_word[np.argmax(x)] for x in predictions[0]]))\n",
    "    print('Il a vu un vieux camion jaune')\n",
    "    print('Sample 2:')\n",
    "    print(' '.join([y_id_to_word[np.argmax(x)] for x in predictions[1]]))\n",
    "    print(' '.join([y_id_to_word[np.max(x)] for x in y[0]]))\n",
    "\n",
    "\n",
    "final_predictions(preproc_english_sentences, preproc_french_sentences, english_tokenizer, french_tokenizer)"
   ]
  },
  {
   "cell_type": "markdown",
   "metadata": {},
   "source": [
    "### Analysis "
   ]
  },
  {
   "cell_type": "markdown",
   "metadata": {},
   "source": [
    "We can see that for LSTM Model the accuracy, and loss stay relatively low. Changing the activation function in the first TimeDistributed layer wrapper to relu, dramatically helps the model.\n",
    "\n",
    "25s 230us/step - loss: 2.4654 - acc: 0.4807 - val_loss: 2.2356 - val_acc: 0.4845\n",
    "\n",
    "Final Model GRU-Bidirectional:\n",
    "8s 163us/step - loss: 0.5259 - acc: 0.8299 - val_loss: 0.4293 - val_acc: 0.8658"
   ]
  },
  {
   "cell_type": "code",
   "execution_count": 20,
   "metadata": {},
   "outputs": [
    {
     "name": "stdout",
     "output_type": "stream",
     "text": [
      "{'val_loss': [1.9125011361203446, 1.4828858303564596, 1.2490654220061554, 1.0685344444751237, 0.93794698246855324, 0.84644913485116524, 0.74782962691505905, 0.65929010066755045, 0.57189578095911908, 0.48981952950311375, 0.41460983308455512, 0.37066013925189584, 0.2872705164154738, 0.25271402843775076, 0.22051782135138015, 0.20974204595743609, 0.22083033902818999, 0.16651171780316099, 0.15519576511270042, 0.14045539401592941], 'val_acc': [0.52313457276414477, 0.59814593056161103, 0.64351990033954809, 0.69350329338607131, 0.72264673996035667, 0.74537085366189426, 0.76949903815233534, 0.79431803080642438, 0.82155140601991594, 0.84704220339051139, 0.87298030524562886, 0.88845956822290417, 0.91692947191343477, 0.92684256900352524, 0.93599751113405583, 0.9403634087238617, 0.93423940221395108, 0.95084295991852896, 0.95334541363567915, 0.95718802153011429], 'loss': [2.6925728703278442, 1.736100241180845, 1.4123186423507705, 1.2228998465477841, 1.0533699390418849, 0.94758676431979083, 0.83519702624914938, 0.76539947910335127, 0.6611606006990336, 0.57626125441741727, 0.49507474676628477, 0.42061109555298543, 0.36183445571763551, 0.30581545137570454, 0.27025620896792385, 0.23892043717718947, 0.21917265532334276, 0.19542528059829151, 0.17514612927684828, 0.16242531461655516], 'acc': [0.46853027713587614, 0.55291981302254711, 0.60995928834419577, 0.65282071692563448, 0.69242486278567694, 0.71785355203991863, 0.74705246556536753, 0.76495280781868635, 0.79431924728459691, 0.81850011731273253, 0.84394046883442642, 0.86900042546741441, 0.88873060427883899, 0.90800830128229915, 0.91905342327152784, 0.92838268916111943, 0.93394302668980311, 0.94137768835871305, 0.94737065620109684, 0.95094658472222204]}\n"
     ]
    },
    {
     "data": {
      "text/plain": [
       "<matplotlib.figure.Figure at 0x7ff9a32d4f60>"
      ]
     },
     "metadata": {},
     "output_type": "display_data"
    },
    {
     "data": {
      "text/plain": [
       "<matplotlib.figure.Figure at 0x7ff9a0819e10>"
      ]
     },
     "metadata": {},
     "output_type": "display_data"
    }
   ],
   "source": [
    "import matplotlib.pyplot as plt\n",
    "print(history_.history)\n",
    "plt.plot(history_.history['loss'])\n",
    "plt.plot(history_.history['val_loss'])\n",
    "plt.title('FinalModel with-GRU Loss')\n",
    "plt.ylabel('loss')\n",
    "plt.xlabel('epoch')\n",
    "plt.legend(['train', 'validation'], loc='upper left')\n",
    "plt.show()\n",
    "\n",
    "plt.plot(history_.history['acc'])\n",
    "plt.plot(history_.history['val_acc'])\n",
    "plt.title('FinalModel with-GRU acc')\n",
    "plt.ylabel('acc')\n",
    "plt.xlabel('epoch')\n",
    "plt.legend(['train', 'validation'], loc='upper left')\n",
    "plt.show()"
   ]
  },
  {
   "cell_type": "markdown",
   "metadata": {},
   "source": [
    "Much better results than using LSTM with embedding, encode-decode, & bidrection!"
   ]
  },
  {
   "cell_type": "markdown",
   "metadata": {},
   "source": [
    "## Submission\n",
    "When you're ready to submit, complete the following steps:\n",
    "1. Review the [rubric](https://review.udacity.com/#!/rubrics/1004/view) to ensure your submission meets all requirements to pass\n",
    "2. Generate an HTML version of this notebook\n",
    "\n",
    "  - Run the next cell to attempt automatic generation (this is the recommended method in Workspaces)\n",
    "  - Navigate to **FILE -> Download as -> HTML (.html)**\n",
    "  - Manually generate a copy using `nbconvert` from your shell terminal\n",
    "```\n",
    "$ pip install nbconvert\n",
    "$ python -m nbconvert machine_translation.ipynb\n",
    "```\n",
    "  \n",
    "3. Submit the project\n",
    "\n",
    "  - If you are in a Workspace, simply click the \"Submit Project\" button (bottom towards the right)\n",
    "  \n",
    "  - Otherwise, add the following files into a zip archive and submit them \n",
    "  - `helper.py`\n",
    "  - `machine_translation.ipynb`\n",
    "  - `machine_translation.html`\n",
    "    - You can export the notebook by navigating to **File -> Download as -> HTML (.html)**."
   ]
  },
  {
   "cell_type": "markdown",
   "metadata": {},
   "source": [
    "### Generate the html\n",
    "\n",
    "**Save your notebook before running the next cell to generate the HTML output.** Then submit your project."
   ]
  },
  {
   "cell_type": "code",
   "execution_count": 52,
   "metadata": {},
   "outputs": [
    {
     "data": {
      "text/plain": [
       "['[NbConvertApp] Converting notebook machine_translation.ipynb to html',\n",
       " '[NbConvertApp] Writing 454849 bytes to machine_translation.html']"
      ]
     },
     "execution_count": 52,
     "metadata": {},
     "output_type": "execute_result"
    }
   ],
   "source": [
    "# Save before you run this cell!\n",
    "!!jupyter nbconvert *.ipynb"
   ]
  },
  {
   "cell_type": "markdown",
   "metadata": {},
   "source": [
    "## Optional Enhancements\n",
    "\n",
    "This project focuses on learning various network architectures for machine translation, but we don't evaluate the models according to best practices by splitting the data into separate test & training sets -- so the model accuracy is overstated. Use the [`sklearn.model_selection.train_test_split()`](http://scikit-learn.org/stable/modules/generated/sklearn.model_selection.train_test_split.html) function to create separate training & test datasets, then retrain each of the models using only the training set and evaluate the prediction accuracy using the hold out test set. Does the \"best\" model change?"
   ]
  }
 ],
 "metadata": {
  "kernelspec": {
   "display_name": "Python 3",
   "language": "python",
   "name": "python3"
  },
  "language_info": {
   "codemirror_mode": {
    "name": "ipython",
    "version": 3
   },
   "file_extension": ".py",
   "mimetype": "text/x-python",
   "name": "python",
   "nbconvert_exporter": "python",
   "pygments_lexer": "ipython3",
   "version": "3.6.1"
  }
 },
 "nbformat": 4,
 "nbformat_minor": 1
}
